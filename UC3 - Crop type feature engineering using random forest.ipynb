{
 "cells": [
  {
   "cell_type": "markdown",
   "id": "b48bd388",
   "metadata": {},
   "source": [
    "<img src=\"https://avatars.githubusercontent.com/u/74911464?s=200&v=4\"\n",
    "     alt=\"OpenEO Platform logo\"\n",
    "     style=\"float: left; margin-right: 10px;\" />\n",
    "# OpenEO Platform - UC3\n",
    "Crop type feature engineering"
   ]
  },
  {
   "cell_type": "code",
   "execution_count": 2,
   "id": "947f7d3f",
   "metadata": {},
   "outputs": [],
   "source": [
    "import openeo\n",
    "from openeo.processes import ProcessBuilder, array_modify, quantiles, sd, array_concat\n",
    "from eo_utils import *\n",
    "from shapely.geometry import box\n",
    "import pandas as pd\n",
    "from helper import *\n",
    "import hvplot.xarray\n",
    "from sklearn.model_selection import train_test_split, GridSearchCV\n",
    "from sklearn.ensemble import RandomForestClassifier\n",
    "from sklearn.metrics import accuracy_score\n",
    "import pickle\n",
    "import urllib.request"
   ]
  },
  {
   "cell_type": "markdown",
   "id": "97c842e9",
   "metadata": {},
   "source": [
    "## Objectives and approach\n",
    "\n",
    "The goal of this section is to show how openEO functionality can be integrated into a basic feature engineering pipeline. We will do this using crop classification as an example.\n",
    "\n",
    "The constantly increasing demand of food has resulted in a highly intensified agricultural production. This intensification on the one hand requires more planning and management, and on the other, threatens ecosystem services that need to be monitored by scientists and decision makers who rely on detailed spatial information of crop cover in agricultural areas.\n",
    "\n",
    "Crop classification on a large scale is a challenging task, but with the recent advances in satellite sensor technology and the push of a.o. the ESA for higher resolution open satellite data with a frequent revisit time this task has become possible.\n",
    "\n",
    "There are various approaches to crop classification. One can use basic rule-based classification as shown in the rule-based notebook, or use more sophisticated methods such as one of various machine learning models. In this example, we will have a look at this machine learning approach and more specifically, look at implementing a random forest model.\n",
    "\n",
    "Generally, any classification task will contain the following steps:\n",
    "\n",
    "* Preprocessing & feature engineering\n",
    "* Training\n",
    "* Classification & model evaluation\n",
    "\n",
    "We will have a more detailed look at all three of these steps, and provide code examples along the way."
   ]
  },
  {
   "cell_type": "markdown",
   "id": "43902a21",
   "metadata": {},
   "source": [
    "First, make a connection:"
   ]
  },
  {
   "cell_type": "code",
   "execution_count": 3,
   "id": "24531079",
   "metadata": {},
   "outputs": [
    {
     "name": "stdout",
     "output_type": "stream",
     "text": [
      "Authenticated using refresh token.\n"
     ]
    },
    {
     "data": {
      "text/plain": [
       "<Connection to 'https://openeo.vito.be/openeo/1.1/' with OidcBearerAuth>"
      ]
     },
     "execution_count": 3,
     "metadata": {},
     "output_type": "execute_result"
    }
   ],
   "source": [
    "connection = openeo.connect(\"openeo.vito.be\")\n",
    "connection.authenticate_oidc()"
   ]
  },
  {
   "cell_type": "markdown",
   "id": "67bfd1a1",
   "metadata": {},
   "source": [
    "Next, we'll set some variables we will need later on."
   ]
  },
  {
   "cell_type": "code",
   "execution_count": 4,
   "id": "dc306130",
   "metadata": {},
   "outputs": [],
   "source": [
    "year = 2020  # The selected worldcover connection will only work for 2020\n",
    "temp_ext_s2 = [str(year-1)+\"-09-01\", str(year+1)+\"-04-30\"]\n",
    "temp_ext_s1 = [str(year)+\"-01-01\",str(year)+\"-12-31\"]\n",
    "temp_ext_wc = str(year)\n",
    "\n",
    "job_options = {\n",
    "        \"driver-memory\": \"2G\",\n",
    "        \"driver-memoryOverhead\": \"1G\",\n",
    "        \"driver-cores\": \"2\",\n",
    "        \"executor-memory\": \"2G\",\n",
    "        \"executor-memoryOverhead\": \"2G\",\n",
    "        \"executor-cores\": \"1\",\n",
    "        \"max-executors\": \"100\"\n",
    "}"
   ]
  },
  {
   "cell_type": "markdown",
   "id": "9b06c447",
   "metadata": {},
   "source": [
    "## Load the dataset\n",
    "\n",
    "Connect to the vito backend and load a large number of S2 bands (they will be used to calculate a variety of vegetation indices) and the scene classification layer (SCL) for the year of 2020.\n",
    "We will use the scene classification band to perform cloud masking and subsequently drop the SCL layer as we will not need it anymore in the rest of this notebook.\n",
    "\n",
    "We use a temporal range that is slightly bigger than the actual temporal range we need to improve the interpolation that we will do later on. For the S1 imagery, no interpolation is needed as no cloud masking needs to be performed, hence the temporal extent is kept to the range we need to avoid loading in unnecessary data."
   ]
  },
  {
   "cell_type": "code",
   "execution_count": 5,
   "id": "4f71234f",
   "metadata": {},
   "outputs": [],
   "source": [
    "s2 = connection.load_collection(\"TERRASCOPE_S2_TOC_V2\",\n",
    "                                temporal_extent=temp_ext_s2,\n",
    "                                bands=[\"B03\",\"B04\",\"B05\",\"B06\",\"B07\",\"B08\",\"B11\",\"B12\",\"SCL\"])\n",
    "s2 = s2.process(\"mask_scl_dilation\", data=s2, scl_band_name=\"SCL\").filter_bands(s2.metadata.band_names[:-1])"
   ]
  },
  {
   "cell_type": "code",
   "execution_count": 6,
   "id": "da8c62e8",
   "metadata": {},
   "outputs": [],
   "source": [
    "s1 = connection.load_collection(\"S1_GRD_SIGMA0_ASCENDING\",\n",
    "                                temporal_extent=temp_ext_s1,\n",
    "                                bands=[\"VH\",\"VV\"]\n",
    "                               )\n",
    "s1 = s1.apply_dimension(dimension=\"bands\",process=lambda x: array_modify(data=x, values=x.array_element(0)/x.array_element(1), index=0))\n",
    "s1 = s1.rename_labels(\"bands\", [\"ratio\"] + s1.metadata.band_names)\n",
    "#TODO: this scaling does not seem appropriate for sentinel-1\n",
    "s1 = s1.apply(process=lambda x: x.linear_scale_range(0,1,0,250))"
   ]
  },
  {
   "cell_type": "markdown",
   "id": "f520871c",
   "metadata": {},
   "source": [
    "In addition, we want to load in a crop mask to ensure that we only classify areas that are actually cropland."
   ]
  },
  {
   "cell_type": "code",
   "execution_count": 7,
   "id": "bfa2c98e",
   "metadata": {},
   "outputs": [],
   "source": [
    "cropland_mask = connection.load_collection(\"ESA_WORLDCOVER_10M_2020_V1\",\n",
    "                                temporal_extent=temp_ext_wc,\n",
    "                                bands=[\"MAP\"]\n",
    "                    )\n",
    "cropland_mask = cropland_mask.band(\"MAP\") != 40\n",
    "\n",
    "s2 = s2.mask(cropland_mask.max_time().resample_cube_spatial(s2))\n",
    "s1 = s1.mask(cropland_mask.max_time().resample_cube_spatial(s1))"
   ]
  },
  {
   "cell_type": "markdown",
   "id": "6fc10ebc",
   "metadata": {},
   "source": [
    "## Feature selection for crop type mapping"
   ]
  },
  {
   "cell_type": "markdown",
   "id": "f05f3e98",
   "metadata": {},
   "source": [
    "For this use case, the following crop types will be mapped:\n",
    "\n",
    "* Wheat\n",
    "* Maize \n",
    "* Potato \n",
    "* Sugar beet\n",
    "* Soy\n",
    "\n",
    "A separability analysis was conducted based on the reference data currently available in the WorldCereal Common Input Baseline. We only focused on European reference data (i.e. LPIS and SIGPAC data). All classification features currently supported by the WorldCereal system were tested. Separability was first computed for each crop type separately in a binary one-vs-all case. Afterwards, an average separability of each feature was computed and features were ranked accordingly. Based on the ranking of features for individual crop types, the overall ranking for all types and ease of implementation, a proposal is made of features to be included for the openEO CCN."
   ]
  },
  {
   "cell_type": "markdown",
   "id": "0705e52e",
   "metadata": {},
   "source": [
    "**Sentinel-2 features**\n",
    "For the final feature selection, the following timeseries should be computed/derived (see satio.rsindices for definitions of the band combinations mentioned below) from Sentinel-2:\n",
    "* bands B06 and B12\n",
    "* vegetation indices NDVI, NDMI, NDGI, ANIR, NDRE1, NDRE2 and NDRE5\n",
    "\n",
    "**Sentinel-1 features**\n",
    "* bands VV and VH\n",
    "* VH/VV ratio\n",
    "\n",
    "Based on all these timeseries, the following features should be computed: \n",
    "* Percentiles (p10, p50, p90) \n",
    "* Standard deviation \n",
    "* Tsteps. This results in a set of 6 features. Ts0, ts1, ts2, ts3, ts4 and ts5, of which ts0, ts1 and ts5 are the most important ones. The others can be dropped to limit the total number of features to be used. \n",
    "\n",
    "**Other features**\n",
    "* Altitude derived from Copernicus 30m DEM\n",
    "* Derived from AgERA5 meteo data: Sum of precipitation over growing season\n",
    "* P10, p50 and p90 of mean temperature \n",
    "\n",
    "In the end, we decided to stick with the Sentinel-1 and Sentinel-2 features (percentiles, std. dev. and t-steps), and leave the other features out for now as the accuracy was already very decent. With that we got to an accuracy of about 97% on the test set, but bear in mind that the test set was made up of samples from fields known to be one of the 5 crop types, and not any other crop classes / land cover classes."
   ]
  },
  {
   "cell_type": "markdown",
   "id": "228851e8",
   "metadata": {},
   "source": [
    "## Feature computation\n",
    "\n",
    "Features are generally computed over the temporal dimension, and result in multiple bands being added. In the openEO API, the 'apply_dimension' process allows us to work on the temporal dimension, and store the result in the bands dimension."
   ]
  },
  {
   "cell_type": "markdown",
   "id": "905558ab",
   "metadata": {},
   "source": [
    "We calculate a number of vegetation indices, aggregate to 10-day composites, interpolate linearly to fill up any potential missing data values and crop back to the the final temporal range (01-01-2020 to 31-12-2020). Finally, we merge all the cubes."
   ]
  },
  {
   "cell_type": "code",
   "execution_count": 8,
   "id": "3ddf596a",
   "metadata": {},
   "outputs": [],
   "source": [
    "idx_list = [\"NDVI\",\"NDMI\",\"NDGI\",\"ANIR\",\"NDRE1\",\"NDRE2\",\"NDRE5\"]\n",
    "s2_list = [\"B06\",\"B12\"]\n",
    "\n",
    "s1_dekad = s1.aggregate_temporal_period(period=\"dekad\", reducer=\"mean\")\n",
    "s1_dekad = s1_dekad.apply_dimension(dimension=\"t\", process=\"array_interpolate_linear\")\n",
    "#s1_dekad = s1_dekad.resample_cube_spatial(s2)\n",
    "\n",
    "indices = compute_indices(s2, idx_list).filter_bands(s2_list+idx_list)\n",
    "idx_dekad = indices.aggregate_temporal_period(period=\"dekad\", reducer=\"mean\")\n",
    "idx_dekad = idx_dekad.apply_dimension(dimension=\"t\", process=\"array_interpolate_linear\").filter_temporal([str(year)+\"-01-01\", str(year)+\"-12-31\"])\n",
    "\n",
    "base_features = idx_dekad.merge_cubes(s1_dekad)\n",
    "base_features = base_features.rename_labels(\"bands\",s2_list+idx_list+[\"ratio\",\"VV\",\"VH\"])"
   ]
  },
  {
   "cell_type": "markdown",
   "id": "5cf72f88",
   "metadata": {},
   "source": [
    "From these temporal cubes we will calculate the features that we need: quantiles, standard deviation and t-steps of all indices and band 6 and 12. We use linear scaling to ensure that all values are int8s for the sake of computational efficiency."
   ]
  },
  {
   "cell_type": "code",
   "execution_count": 9,
   "id": "b88db03f",
   "metadata": {
    "scrolled": true
   },
   "outputs": [],
   "source": [
    "def computeStats(input_timeseries:ProcessBuilder):\n",
    "    tsteps = list([input_timeseries.array_element(6*index) for index in range(0,6)])\n",
    "    return array_concat(array_concat(input_timeseries.quantiles(probabilities=[0.1,0.5,0.9]),input_timeseries.sd()),tsteps)\n",
    "\n",
    "features = base_features.apply_dimension(dimension='t',target_dimension='bands', process=computeStats).apply(lambda x: x.linear_scale_range(0,250,0,250))\n",
    "\n",
    "tstep_labels = [ \"t\"+ str(6*index) for index in range(0,6) ]\n",
    "all_bands = [band + \"_\" + stat for band in base_features.metadata.band_names for stat in [\"p10\",\"p50\",\"p90\",\"sd\"] + tstep_labels ]\n",
    "features = features.rename_labels('bands',all_bands)"
   ]
  },
  {
   "cell_type": "markdown",
   "id": "b8bb061d",
   "metadata": {},
   "source": [
    "## Dataset sampling\n",
    "\n",
    "Once we have our features defined, we will want to generate a set of input features for model calibration. Instead of calculating features\n",
    "for a very large area, openEO can sample the datacube at selected locations.\n",
    "\n",
    "Sampling a datacube in openEO currently requires polygons as sampling features. Other types of geometry, like lines\n",
    "and points, should be converted into polygons first by applying a buffering operation. Using the spatial resolution\n",
    "of the datacube as buffer size can be a way to approximate sampling at a point.\n",
    "\n",
    "To indicate to openEO that we only want to compute the datacube for certain polygon features, we use the\n",
    "`~openeo.rest.datacube.DataCube.filter_spatial` method.\n",
    "\n",
    "Next to that, we will also indicate that we want to write multiple output files. This is more convenient, as we will\n",
    "want to have one or more raster outputs per sampling feature, for convenient further processing. To do this, we set\n",
    "the 'sample_by_feature' output format property, which is available for the netCDF and GTiff output formats.\n",
    "\n",
    "Sampling only works for batch jobs, because it results in multiple output files, which can not be conveniently transferred\n",
    "in a synchronous call.\n",
    "\n",
    "Combining all of this, results in the following sample code:\n",
    "\n",
    "\n"
   ]
  },
  {
   "cell_type": "code",
   "execution_count": 10,
   "id": "1610f593",
   "metadata": {},
   "outputs": [],
   "source": [
    "#crops = {\"maize\":1200,\"potatos\":5100,\"sugarbeet\":8100,\"barley\":1500,\"soy\":4100}\n",
    "crops = [\"maize\", \"potatos\", \"sugarbeet\", \"barley\", \"soy\"]\n",
    "crop_samples = {name:gpd.read_file(\"UC3_resources/\"+ name + \"_2019.geojson\", driver='GeoJSON') for name in crops}\n",
    "\n",
    "points_per_type = point_sample_fields(crop_samples, 30)"
   ]
  },
  {
   "cell_type": "code",
   "execution_count": null,
   "id": "79be9600",
   "metadata": {
    "scrolled": true
   },
   "outputs": [],
   "source": [
    "for i in points_per_type.keys():\n",
    "    sampled_features = features.filter_spatial(eval(points_per_type[i]))\n",
    "    job = sampled_features.execute_batch(\n",
    "        title=\"Point feature extraction\",\n",
    "        description=\"Feature extraction for p10,p50,p90,sd and tsteps\",\n",
    "        out_format=\"netCDF\",\n",
    "        sample_by_feature=True,\n",
    "        job_options=job_options)\n",
    "    results = job.get_results()\n",
    "    results.download_files(\"./data/rf_300_\"+i)"
   ]
  },
  {
   "cell_type": "markdown",
   "id": "f73029e7",
   "metadata": {},
   "source": [
    "We can then load this data into a dataframe which can be used to train the model."
   ]
  },
  {
   "cell_type": "code",
   "execution_count": 11,
   "id": "264c0833",
   "metadata": {},
   "outputs": [
    {
     "name": "stdout",
     "output_type": "stream",
     "text": [
      "CPU times: total: 45 s\n",
      "Wall time: 45.2 s\n"
     ]
    },
    {
     "data": {
      "text/html": [
       "<div>\n",
       "<style scoped>\n",
       "    .dataframe tbody tr th:only-of-type {\n",
       "        vertical-align: middle;\n",
       "    }\n",
       "\n",
       "    .dataframe tbody tr th {\n",
       "        vertical-align: top;\n",
       "    }\n",
       "\n",
       "    .dataframe thead th {\n",
       "        text-align: right;\n",
       "    }\n",
       "</style>\n",
       "<table border=\"1\" class=\"dataframe\">\n",
       "  <thead>\n",
       "    <tr style=\"text-align: right;\">\n",
       "      <th></th>\n",
       "      <th>Crop type</th>\n",
       "      <th>Iteration nr</th>\n",
       "      <th>B06_p10</th>\n",
       "      <th>B06_p50</th>\n",
       "      <th>B06_p90</th>\n",
       "      <th>B06_sd</th>\n",
       "      <th>B06_t0</th>\n",
       "      <th>B06_t6</th>\n",
       "      <th>B06_t12</th>\n",
       "      <th>B06_t18</th>\n",
       "      <th>...</th>\n",
       "      <th>VH_p10</th>\n",
       "      <th>VH_p50</th>\n",
       "      <th>VH_p90</th>\n",
       "      <th>VH_sd</th>\n",
       "      <th>VH_t0</th>\n",
       "      <th>VH_t6</th>\n",
       "      <th>VH_t12</th>\n",
       "      <th>VH_t18</th>\n",
       "      <th>VH_t24</th>\n",
       "      <th>VH_t30</th>\n",
       "    </tr>\n",
       "  </thead>\n",
       "  <tbody>\n",
       "    <tr>\n",
       "      <th>0</th>\n",
       "      <td>barley</td>\n",
       "      <td>openEO_0</td>\n",
       "      <td>46.889999</td>\n",
       "      <td>53.099998</td>\n",
       "      <td>84.099998</td>\n",
       "      <td>12.156557</td>\n",
       "      <td>62.50</td>\n",
       "      <td>53.200001</td>\n",
       "      <td>79.5</td>\n",
       "      <td>45.0</td>\n",
       "      <td>...</td>\n",
       "      <td>13.7</td>\n",
       "      <td>26.875</td>\n",
       "      <td>52.049999</td>\n",
       "      <td>17.337147</td>\n",
       "      <td>34.0</td>\n",
       "      <td>75.5</td>\n",
       "      <td>29.0</td>\n",
       "      <td>23.0</td>\n",
       "      <td>20.25</td>\n",
       "      <td>18.75</td>\n",
       "    </tr>\n",
       "    <tr>\n",
       "      <th>1</th>\n",
       "      <td>barley</td>\n",
       "      <td>openEO_1</td>\n",
       "      <td>42.750000</td>\n",
       "      <td>66.777779</td>\n",
       "      <td>99.811111</td>\n",
       "      <td>20.900290</td>\n",
       "      <td>39.00</td>\n",
       "      <td>61.333332</td>\n",
       "      <td>83.0</td>\n",
       "      <td>55.0</td>\n",
       "      <td>...</td>\n",
       "      <td>9.9</td>\n",
       "      <td>22.250</td>\n",
       "      <td>69.199997</td>\n",
       "      <td>20.769791</td>\n",
       "      <td>28.0</td>\n",
       "      <td>47.5</td>\n",
       "      <td>27.5</td>\n",
       "      <td>10.0</td>\n",
       "      <td>13.00</td>\n",
       "      <td>52.00</td>\n",
       "    </tr>\n",
       "    <tr>\n",
       "      <th>2</th>\n",
       "      <td>barley</td>\n",
       "      <td>openEO_10</td>\n",
       "      <td>54.466667</td>\n",
       "      <td>63.472221</td>\n",
       "      <td>88.733337</td>\n",
       "      <td>12.992085</td>\n",
       "      <td>67.75</td>\n",
       "      <td>55.333332</td>\n",
       "      <td>86.0</td>\n",
       "      <td>43.0</td>\n",
       "      <td>...</td>\n",
       "      <td>12.7</td>\n",
       "      <td>29.000</td>\n",
       "      <td>50.000000</td>\n",
       "      <td>14.174424</td>\n",
       "      <td>29.0</td>\n",
       "      <td>56.0</td>\n",
       "      <td>50.0</td>\n",
       "      <td>16.0</td>\n",
       "      <td>17.00</td>\n",
       "      <td>24.00</td>\n",
       "    </tr>\n",
       "    <tr>\n",
       "      <th>3</th>\n",
       "      <td>barley</td>\n",
       "      <td>openEO_100</td>\n",
       "      <td>55.000000</td>\n",
       "      <td>62.000000</td>\n",
       "      <td>90.099998</td>\n",
       "      <td>13.240349</td>\n",
       "      <td>61.75</td>\n",
       "      <td>57.000000</td>\n",
       "      <td>86.0</td>\n",
       "      <td>44.0</td>\n",
       "      <td>...</td>\n",
       "      <td>8.7</td>\n",
       "      <td>32.000</td>\n",
       "      <td>84.599998</td>\n",
       "      <td>31.028559</td>\n",
       "      <td>64.0</td>\n",
       "      <td>76.0</td>\n",
       "      <td>60.0</td>\n",
       "      <td>16.0</td>\n",
       "      <td>10.00</td>\n",
       "      <td>35.00</td>\n",
       "    </tr>\n",
       "    <tr>\n",
       "      <th>4</th>\n",
       "      <td>barley</td>\n",
       "      <td>openEO_101</td>\n",
       "      <td>33.000000</td>\n",
       "      <td>52.000000</td>\n",
       "      <td>88.833336</td>\n",
       "      <td>19.758512</td>\n",
       "      <td>31.75</td>\n",
       "      <td>45.000000</td>\n",
       "      <td>76.5</td>\n",
       "      <td>50.0</td>\n",
       "      <td>...</td>\n",
       "      <td>10.7</td>\n",
       "      <td>25.500</td>\n",
       "      <td>60.000000</td>\n",
       "      <td>18.545933</td>\n",
       "      <td>20.0</td>\n",
       "      <td>73.0</td>\n",
       "      <td>18.0</td>\n",
       "      <td>17.0</td>\n",
       "      <td>31.00</td>\n",
       "      <td>36.00</td>\n",
       "    </tr>\n",
       "  </tbody>\n",
       "</table>\n",
       "<p>5 rows × 122 columns</p>\n",
       "</div>"
      ],
      "text/plain": [
       "  Crop type Iteration nr    B06_p10    B06_p50    B06_p90     B06_sd  B06_t0  \\\n",
       "0    barley     openEO_0  46.889999  53.099998  84.099998  12.156557   62.50   \n",
       "1    barley     openEO_1  42.750000  66.777779  99.811111  20.900290   39.00   \n",
       "2    barley    openEO_10  54.466667  63.472221  88.733337  12.992085   67.75   \n",
       "3    barley   openEO_100  55.000000  62.000000  90.099998  13.240349   61.75   \n",
       "4    barley   openEO_101  33.000000  52.000000  88.833336  19.758512   31.75   \n",
       "\n",
       "      B06_t6  B06_t12  B06_t18  ...  VH_p10  VH_p50     VH_p90      VH_sd  \\\n",
       "0  53.200001     79.5     45.0  ...    13.7  26.875  52.049999  17.337147   \n",
       "1  61.333332     83.0     55.0  ...     9.9  22.250  69.199997  20.769791   \n",
       "2  55.333332     86.0     43.0  ...    12.7  29.000  50.000000  14.174424   \n",
       "3  57.000000     86.0     44.0  ...     8.7  32.000  84.599998  31.028559   \n",
       "4  45.000000     76.5     50.0  ...    10.7  25.500  60.000000  18.545933   \n",
       "\n",
       "   VH_t0  VH_t6  VH_t12  VH_t18  VH_t24  VH_t30  \n",
       "0   34.0   75.5    29.0    23.0   20.25   18.75  \n",
       "1   28.0   47.5    27.5    10.0   13.00   52.00  \n",
       "2   29.0   56.0    50.0    16.0   17.00   24.00  \n",
       "3   64.0   76.0    60.0    16.0   10.00   35.00  \n",
       "4   20.0   73.0    18.0    17.0   31.00   36.00  \n",
       "\n",
       "[5 rows x 122 columns]"
      ]
     },
     "execution_count": 11,
     "metadata": {},
     "output_type": "execute_result"
    }
   ],
   "source": [
    "%time df = prep_df(2020,all_bands)\n",
    "df.head()"
   ]
  },
  {
   "cell_type": "markdown",
   "id": "0cdf7ad8",
   "metadata": {},
   "source": [
    "## Training a random forest model\n",
    "Next, we'll start training a model. We first split our dataset into a training and test set, and then perform grid search to find the optimal parameters for our model."
   ]
  },
  {
   "cell_type": "code",
   "execution_count": 12,
   "id": "548dbe6f",
   "metadata": {},
   "outputs": [],
   "source": [
    "X = df[all_bands]\n",
    "y = df[\"Crop type\"]\n",
    "\n",
    "X_train, X_test, y_train, y_test = train_test_split(X, y, test_size=0.3)"
   ]
  },
  {
   "cell_type": "code",
   "execution_count": 13,
   "id": "3bd1aef5",
   "metadata": {},
   "outputs": [
    {
     "name": "stdout",
     "output_type": "stream",
     "text": [
      "Fitting 3 folds for each of 48 candidates, totalling 144 fits\n"
     ]
    },
    {
     "data": {
      "text/plain": [
       "{'max_depth': 100,\n",
       " 'max_features': 'log2',\n",
       " 'min_samples_leaf': 1,\n",
       " 'min_samples_split': 2,\n",
       " 'n_estimators': 300}"
      ]
     },
     "execution_count": 13,
     "metadata": {},
     "output_type": "execute_result"
    }
   ],
   "source": [
    "param_grid = {\n",
    "    'max_depth': [100, None],\n",
    "    'max_features': [4, 'log2'],\n",
    "    'min_samples_leaf': [1, 2],\n",
    "    'min_samples_split': [2, 3],\n",
    "    'n_estimators': [100, 200, 300]\n",
    "}\n",
    "rf = RandomForestClassifier()\n",
    "grid_search = GridSearchCV(estimator = rf, param_grid = param_grid, cv = 3, n_jobs = -1, verbose = 2)\n",
    "\n",
    "grid_search.fit(X_train, y_train)\n",
    "grid_search.best_params_"
   ]
  },
  {
   "cell_type": "code",
   "execution_count": 14,
   "id": "f5e46907",
   "metadata": {},
   "outputs": [
    {
     "data": {
      "text/html": [
       "<div>\n",
       "<style scoped>\n",
       "    .dataframe tbody tr th:only-of-type {\n",
       "        vertical-align: middle;\n",
       "    }\n",
       "\n",
       "    .dataframe tbody tr th {\n",
       "        vertical-align: top;\n",
       "    }\n",
       "\n",
       "    .dataframe thead th {\n",
       "        text-align: right;\n",
       "    }\n",
       "</style>\n",
       "<table border=\"1\" class=\"dataframe\">\n",
       "  <thead>\n",
       "    <tr style=\"text-align: right;\">\n",
       "      <th></th>\n",
       "      <th>mean_fit_time</th>\n",
       "      <th>std_fit_time</th>\n",
       "      <th>mean_score_time</th>\n",
       "      <th>std_score_time</th>\n",
       "      <th>param_max_depth</th>\n",
       "      <th>param_max_features</th>\n",
       "      <th>param_min_samples_leaf</th>\n",
       "      <th>param_min_samples_split</th>\n",
       "      <th>param_n_estimators</th>\n",
       "      <th>params</th>\n",
       "      <th>split0_test_score</th>\n",
       "      <th>split1_test_score</th>\n",
       "      <th>split2_test_score</th>\n",
       "      <th>mean_test_score</th>\n",
       "      <th>std_test_score</th>\n",
       "      <th>rank_test_score</th>\n",
       "    </tr>\n",
       "  </thead>\n",
       "  <tbody>\n",
       "    <tr>\n",
       "      <th>14</th>\n",
       "      <td>1.704370</td>\n",
       "      <td>0.023810</td>\n",
       "      <td>0.048929</td>\n",
       "      <td>0.003428</td>\n",
       "      <td>100</td>\n",
       "      <td>log2</td>\n",
       "      <td>1</td>\n",
       "      <td>2</td>\n",
       "      <td>300</td>\n",
       "      <td>{'max_depth': 100, 'max_features': 'log2', 'mi...</td>\n",
       "      <td>0.982639</td>\n",
       "      <td>0.979167</td>\n",
       "      <td>0.993031</td>\n",
       "      <td>0.984946</td>\n",
       "      <td>0.005891</td>\n",
       "      <td>1</td>\n",
       "    </tr>\n",
       "    <tr>\n",
       "      <th>0</th>\n",
       "      <td>0.481911</td>\n",
       "      <td>0.005506</td>\n",
       "      <td>0.025906</td>\n",
       "      <td>0.003910</td>\n",
       "      <td>100</td>\n",
       "      <td>4</td>\n",
       "      <td>1</td>\n",
       "      <td>2</td>\n",
       "      <td>100</td>\n",
       "      <td>{'max_depth': 100, 'max_features': 4, 'min_sam...</td>\n",
       "      <td>0.986111</td>\n",
       "      <td>0.979167</td>\n",
       "      <td>0.989547</td>\n",
       "      <td>0.984942</td>\n",
       "      <td>0.004318</td>\n",
       "      <td>2</td>\n",
       "    </tr>\n",
       "    <tr>\n",
       "      <th>25</th>\n",
       "      <td>0.906782</td>\n",
       "      <td>0.040823</td>\n",
       "      <td>0.029147</td>\n",
       "      <td>0.004681</td>\n",
       "      <td>None</td>\n",
       "      <td>4</td>\n",
       "      <td>1</td>\n",
       "      <td>2</td>\n",
       "      <td>200</td>\n",
       "      <td>{'max_depth': None, 'max_features': 4, 'min_sa...</td>\n",
       "      <td>0.979167</td>\n",
       "      <td>0.986111</td>\n",
       "      <td>0.986063</td>\n",
       "      <td>0.983780</td>\n",
       "      <td>0.003262</td>\n",
       "      <td>3</td>\n",
       "    </tr>\n",
       "    <tr>\n",
       "      <th>1</th>\n",
       "      <td>0.884070</td>\n",
       "      <td>0.035430</td>\n",
       "      <td>0.033424</td>\n",
       "      <td>0.005056</td>\n",
       "      <td>100</td>\n",
       "      <td>4</td>\n",
       "      <td>1</td>\n",
       "      <td>2</td>\n",
       "      <td>200</td>\n",
       "      <td>{'max_depth': 100, 'max_features': 4, 'min_sam...</td>\n",
       "      <td>0.975694</td>\n",
       "      <td>0.979167</td>\n",
       "      <td>0.993031</td>\n",
       "      <td>0.982631</td>\n",
       "      <td>0.007490</td>\n",
       "      <td>4</td>\n",
       "    </tr>\n",
       "    <tr>\n",
       "      <th>26</th>\n",
       "      <td>1.361126</td>\n",
       "      <td>0.010292</td>\n",
       "      <td>0.047401</td>\n",
       "      <td>0.010305</td>\n",
       "      <td>None</td>\n",
       "      <td>4</td>\n",
       "      <td>1</td>\n",
       "      <td>2</td>\n",
       "      <td>300</td>\n",
       "      <td>{'max_depth': None, 'max_features': 4, 'min_sa...</td>\n",
       "      <td>0.982639</td>\n",
       "      <td>0.979167</td>\n",
       "      <td>0.986063</td>\n",
       "      <td>0.982623</td>\n",
       "      <td>0.002815</td>\n",
       "      <td>5</td>\n",
       "    </tr>\n",
       "  </tbody>\n",
       "</table>\n",
       "</div>"
      ],
      "text/plain": [
       "    mean_fit_time  std_fit_time  mean_score_time  std_score_time  \\\n",
       "14       1.704370      0.023810         0.048929        0.003428   \n",
       "0        0.481911      0.005506         0.025906        0.003910   \n",
       "25       0.906782      0.040823         0.029147        0.004681   \n",
       "1        0.884070      0.035430         0.033424        0.005056   \n",
       "26       1.361126      0.010292         0.047401        0.010305   \n",
       "\n",
       "   param_max_depth param_max_features param_min_samples_leaf  \\\n",
       "14             100               log2                      1   \n",
       "0              100                  4                      1   \n",
       "25            None                  4                      1   \n",
       "1              100                  4                      1   \n",
       "26            None                  4                      1   \n",
       "\n",
       "   param_min_samples_split param_n_estimators  \\\n",
       "14                       2                300   \n",
       "0                        2                100   \n",
       "25                       2                200   \n",
       "1                        2                200   \n",
       "26                       2                300   \n",
       "\n",
       "                                               params  split0_test_score  \\\n",
       "14  {'max_depth': 100, 'max_features': 'log2', 'mi...           0.982639   \n",
       "0   {'max_depth': 100, 'max_features': 4, 'min_sam...           0.986111   \n",
       "25  {'max_depth': None, 'max_features': 4, 'min_sa...           0.979167   \n",
       "1   {'max_depth': 100, 'max_features': 4, 'min_sam...           0.975694   \n",
       "26  {'max_depth': None, 'max_features': 4, 'min_sa...           0.982639   \n",
       "\n",
       "    split1_test_score  split2_test_score  mean_test_score  std_test_score  \\\n",
       "14           0.979167           0.993031         0.984946        0.005891   \n",
       "0            0.979167           0.989547         0.984942        0.004318   \n",
       "25           0.986111           0.986063         0.983780        0.003262   \n",
       "1            0.979167           0.993031         0.982631        0.007490   \n",
       "26           0.979167           0.986063         0.982623        0.002815   \n",
       "\n",
       "    rank_test_score  \n",
       "14                1  \n",
       "0                 2  \n",
       "25                3  \n",
       "1                 4  \n",
       "26                5  "
      ]
     },
     "execution_count": 14,
     "metadata": {},
     "output_type": "execute_result"
    }
   ],
   "source": [
    "gs_results = pd.DataFrame(grid_search.cv_results_).sort_values(by=[\"mean_test_score\"],axis=0,ascending=False)\n",
    "gs_results.head()"
   ]
  },
  {
   "cell_type": "markdown",
   "id": "b47edea4",
   "metadata": {},
   "source": [
    "From playing around with gridsearch we can concluse that the most important model parameters are:\n",
    "* max_features: low (around 3-5)\n",
    "* min_samples_leaf: low (1)\n",
    "* min_samples_split: low (2)\n",
    "\n",
    "And we can run the best model on our test set and calculate the accuracy (note that our test set consists of either one of the 5 crop types, so the results on a set consisting of other crop types or even land cover types will be lower."
   ]
  },
  {
   "cell_type": "code",
   "execution_count": 16,
   "id": "1715dad7",
   "metadata": {},
   "outputs": [
    {
     "name": "stdout",
     "output_type": "stream",
     "text": [
      "Accuracy on test set: 0.972\n"
     ]
    }
   ],
   "source": [
    "y_pred = grid_search.predict(X_test)\n",
    "print(\"Accuracy on test set: \"+str(accuracy_score(y_test,y_pred))[0:5])"
   ]
  },
  {
   "cell_type": "markdown",
   "id": "4e9d3aa6",
   "metadata": {},
   "source": [
    "We can then save this model"
   ]
  },
  {
   "cell_type": "code",
   "execution_count": 19,
   "id": "8391b55e",
   "metadata": {},
   "outputs": [],
   "source": [
    "filename = './data/rf_model.pkl'\n",
    "pickle.dump(grid_search, open(filename, 'wb'))"
   ]
  },
  {
   "cell_type": "markdown",
   "id": "fc578b18",
   "metadata": {},
   "source": [
    "After saving the model, we can upload it to any public repository. The model on this repository can then be accessed from the UDF that will be used for performing inference.\n",
    "\n",
    "We select an area for which we want to perform model inference."
   ]
  },
  {
   "cell_type": "code",
   "execution_count": 20,
   "id": "d02640ff",
   "metadata": {},
   "outputs": [
    {
     "data": {
      "application/vnd.jupyter.widget-view+json": {
       "model_id": "44f253012dd7414c90dbb17b8af2c187",
       "version_major": 2,
       "version_minor": 0
      },
      "text/plain": [
       "Map(center=[50.8, 4.75], controls=(ZoomControl(options=['position', 'zoom_in_text', 'zoom_in_title', 'zoom_out…"
      ]
     },
     "metadata": {},
     "output_type": "display_data"
    }
   ],
   "source": [
    "center = [50.8, 4.75]\n",
    "zoom = 13\n",
    "\n",
    "eoMap = openeoMap(center,zoom)\n",
    "addS2Tiles(eoMap)\n",
    "eoMap.map"
   ]
  },
  {
   "cell_type": "markdown",
   "id": "7b82e9f2",
   "metadata": {},
   "source": [
    "We can then use the model to do inference and store the result"
   ]
  },
  {
   "cell_type": "code",
   "execution_count": 25,
   "id": "9c7d434d",
   "metadata": {},
   "outputs": [
    {
     "name": "stdout",
     "output_type": "stream",
     "text": [
      "Authenticated using refresh token.\n",
      "0:00:00 Job 'j-10aeb2573c0a4327a07d7edc5cc19cbf': send 'start'\n",
      "0:00:16 Job 'j-10aeb2573c0a4327a07d7edc5cc19cbf': queued (progress N/A)\n",
      "0:00:22 Job 'j-10aeb2573c0a4327a07d7edc5cc19cbf': queued (progress N/A)\n",
      "0:00:28 Job 'j-10aeb2573c0a4327a07d7edc5cc19cbf': queued (progress N/A)\n",
      "0:00:36 Job 'j-10aeb2573c0a4327a07d7edc5cc19cbf': queued (progress N/A)\n",
      "0:00:46 Job 'j-10aeb2573c0a4327a07d7edc5cc19cbf': queued (progress N/A)\n",
      "0:00:59 Job 'j-10aeb2573c0a4327a07d7edc5cc19cbf': queued (progress N/A)\n",
      "0:01:14 Job 'j-10aeb2573c0a4327a07d7edc5cc19cbf': queued (progress N/A)\n",
      "0:01:34 Job 'j-10aeb2573c0a4327a07d7edc5cc19cbf': running (progress N/A)\n",
      "0:01:58 Job 'j-10aeb2573c0a4327a07d7edc5cc19cbf': running (progress N/A)\n",
      "0:02:28 Job 'j-10aeb2573c0a4327a07d7edc5cc19cbf': running (progress N/A)\n",
      "0:03:05 Job 'j-10aeb2573c0a4327a07d7edc5cc19cbf': running (progress N/A)\n",
      "0:03:52 Job 'j-10aeb2573c0a4327a07d7edc5cc19cbf': running (progress N/A)\n",
      "0:04:51 Job 'j-10aeb2573c0a4327a07d7edc5cc19cbf': running (progress N/A)\n",
      "0:05:51 Job 'j-10aeb2573c0a4327a07d7edc5cc19cbf': running (progress N/A)\n",
      "0:06:51 Job 'j-10aeb2573c0a4327a07d7edc5cc19cbf': running (progress N/A)\n",
      "0:07:52 Job 'j-10aeb2573c0a4327a07d7edc5cc19cbf': running (progress N/A)\n",
      "0:08:52 Job 'j-10aeb2573c0a4327a07d7edc5cc19cbf': running (progress N/A)\n",
      "0:09:54 Job 'j-10aeb2573c0a4327a07d7edc5cc19cbf': running (progress N/A)\n",
      "0:10:55 Job 'j-10aeb2573c0a4327a07d7edc5cc19cbf': running (progress N/A)\n",
      "0:11:55 Job 'j-10aeb2573c0a4327a07d7edc5cc19cbf': running (progress N/A)\n",
      "0:12:56 Job 'j-10aeb2573c0a4327a07d7edc5cc19cbf': running (progress N/A)\n",
      "0:13:56 Job 'j-10aeb2573c0a4327a07d7edc5cc19cbf': running (progress N/A)\n",
      "0:14:57 Job 'j-10aeb2573c0a4327a07d7edc5cc19cbf': running (progress N/A)\n",
      "0:15:58 Job 'j-10aeb2573c0a4327a07d7edc5cc19cbf': running (progress N/A)\n",
      "0:16:59 Job 'j-10aeb2573c0a4327a07d7edc5cc19cbf': running (progress N/A)\n",
      "0:17:59 Job 'j-10aeb2573c0a4327a07d7edc5cc19cbf': finished (progress N/A)\n"
     ]
    },
    {
     "data": {
      "text/plain": [
       "[WindowsPath('data/test_klein_gebied/openEO.tif'),\n",
       " WindowsPath('data/test_klein_gebied/job-results.json')]"
      ]
     },
     "execution_count": 25,
     "metadata": {},
     "output_type": "execute_result"
    }
   ],
   "source": [
    "terrascope_settings = {\n",
    "    \"SENTINEL2\":\"TERRASCOPE_S2_TOC_V2\",\n",
    "    \"SENTINEL1\":\"S1_GRD_SIGMA0_ASCENDING\",\n",
    "    \"mask\":True,\n",
    "    \"url\":\"openeo.vito.be\",\n",
    "    \"props\": None\n",
    "}\n",
    "creo_settings = {\n",
    "    \"SENTINEL2\":\"SENTINEL2_L2A\",\n",
    "    \"SENTINEL1\":\"SENTINEL1_GRD\",\n",
    "    \"mask\":False,\n",
    "    \"url\":\"openeo.creo.vito.be\",\n",
    "    \"props\": None\n",
    "}\n",
    "\n",
    "s = terrascope_settings\n",
    "connection = openeo.connect(s[\"url\"]).authenticate_oidc()\n",
    "bbox = eoMap.getBbox()\n",
    "\n",
    "udf_rf = \"\"\"\n",
    "from typing import Dict\n",
    "from openeo_udf.api.datacube import DataCube\n",
    "import pickle\n",
    "import urllib.request\n",
    "import xarray\n",
    "import sklearn\n",
    "from openeo.udf.xarraydatacube import XarrayDataCube\n",
    "import functools\n",
    "\n",
    "@functools.lru_cache(maxsize=25)\n",
    "def load_model():\n",
    "    return pickle.load(urllib.request.urlopen(\"https://artifactory.vgt.vito.be:443/auxdata-public/openeo/rf_model.pkl\"))\n",
    "\n",
    "def impute(a):\n",
    "    a[np.isnan(a)] = np.int16(np.nanmean(a))\n",
    "    return a\n",
    "\n",
    "def apply_datacube(cube: XarrayDataCube, context: dict) -> XarrayDataCube:\n",
    "    array = cube.get_array()\n",
    "    stacked_array = array.stack(pixel=(\"x\",\"y\"))\n",
    "    stacked_array = stacked_array.transpose()\n",
    "    stacked_array_f = stacked_array[~np.isnan(stacked_array).all(axis=1)]\n",
    "    \n",
    "    if len(stacked_array_f) == 0:\n",
    "        result = np.full(np.multiply(*array.shape[1:]),np.nan)\n",
    "    else:\n",
    "        nr_feats = 10\n",
    "        int_ars = []\n",
    "        for rng in [range(nr_feats*i,nr_feats*i+nr_feats) for i in range(len(stacked_array_f[0])//nr_feats)]:\n",
    "            ar = stacked_array_f[:,rng]\n",
    "            np.apply_along_axis(impute, 1, ar)\n",
    "            int_ars.append(ar)\n",
    "        stacked_array_filtered = np.concatenate(int_ars,axis=1)\n",
    "\n",
    "        clf = load_model()\n",
    "        probs = clf.predict_proba(stacked_array_filtered)\n",
    "        pred_array = np.argmax(probs,axis=1)\n",
    "        none_indices = np.where(np.amax(probs,axis=1)<0.5)\n",
    "        pred_array[none_indices] = 99\n",
    "        result = np.full(len(stacked_array),np.nan)\n",
    "        result[~np.isnan(stacked_array).all(axis=1)] = pred_array\n",
    "    da = xarray.DataArray(np.transpose(result.reshape(array.shape[1:])),coords=[array.coords[\"x\"],array.coords[\"y\"]], dims=[\"x\",\"y\"])\n",
    "    return DataCube(da)\n",
    "\"\"\"\n",
    "\n",
    "def computeStats(input_timeseries:ProcessBuilder):\n",
    "    tsteps = list([input_timeseries.array_element(6*index) for index in range(0,6)])\n",
    "    return array_concat(array_concat(input_timeseries.quantiles(probabilities=[0.1,0.5,0.9]),input_timeseries.sd()),tsteps)\n",
    "\n",
    "def rf_classification(bbox, udf, year=2020, rel_orbit_filtering=False):\n",
    "    temp_ext_s2 = [str(year-1)+\"-09-01\", str(year+1)+\"-04-30\"]\n",
    "    temp_ext_s1 = [str(year)+\"-01-01\",str(year)+\"-12-31\"]\n",
    "    spat_ext = {'west': bbox[0],'east': bbox[2],'south': bbox[1], 'north': bbox[3],'crs': 'EPSG:4326'}\n",
    "    \n",
    "    if rel_orbit_filtering:\n",
    "        from eodag import EODataAccessGateway\n",
    "        dag = EODataAccessGateway()\n",
    "        search_criteria = {\n",
    "            \"productType\": \"S1_SAR_GRD\",\n",
    "            \"start\": temp_ext_s1[0],\n",
    "            \"end\": temp_ext_s1[1],\n",
    "            \"geom\": {\"lonmin\": bbox[0], \"latmin\": bbox[1], \"lonmax\": bbox[2], \"latmax\": bbox[3]}\n",
    "        }\n",
    "        all_prods = dag.search_all(**search_criteria)\n",
    "        rel_orbits = [prod.properties[\"relativeOrbitNumber\"] for prod in all_prods]\n",
    "        (uni_vals, counts) = np.unique(rel_orbits, return_counts=True)\n",
    "        creo_settings[\"props\"] = {\"relativeOrbitNumber\": uni_vals[np.argmax(counts)]}\n",
    "\n",
    "    ### Sentinel 2 data\n",
    "    s2 = connection.load_collection(s[\"SENTINEL2\"],                                 \n",
    "                                temporal_extent=temp_ext_s2,\n",
    "                                spatial_extent=spat_ext,\n",
    "                                bands=[\"B03\",\"B04\",\"B05\",\"B06\",\"B07\",\"B08\",\"B11\",\"B12\",\"SCL\"]\n",
    "                    )\n",
    "    #s2._pg.arguments['featureflags'] = temporal_partition_options\n",
    "    s2 = s2.process(\"mask_scl_dilation\", data=s2, scl_band_name=\"SCL\").filter_bands(s2.metadata.band_names[:-1])\n",
    "\n",
    "    ### Sentinel 1 data\n",
    "    s1 = connection.load_collection(s[\"SENTINEL1\"],                                 \n",
    "                                    temporal_extent=temp_ext_s1,\n",
    "                                    spatial_extent=spat_ext,\n",
    "                                    bands=[\"VH\",\"VV\"],\n",
    "                                    properties=s[\"props\"]\n",
    "                                   )\n",
    "    #s1._pg.arguments['featureflags'] = temporal_partition_options\n",
    "    if s[\"SENTINEL1\"] == \"SENTINEL1_GRD\":\n",
    "        s1 = s1.sar_backscatter(coefficient=\"sigma0-ellipsoid\",options={\"implementation_version\":\"2\",\"debug\":True,\"tile_size\":256})\n",
    "\n",
    "    s1 = s1.apply_dimension(dimension=\"bands\",process=lambda x: array_modify(data=x, values=x.array_element(0)/x.array_element(1), index=0)).rename_labels(\"bands\",[\"ratio\",\"VV\",\"VH\"])\n",
    "    s1 = s1.apply(lambda x: x.linear_scale_range(0,1,0,250))\n",
    "    \n",
    "    if s[\"mask\"]:\n",
    "        ### Cropland mask\n",
    "        cropland_mask = connection.load_collection(\"ESA_WORLDCOVER_10M_2020_V1\",\n",
    "                                        temporal_extent=temp_ext_s2,\n",
    "                                        spatial_extent=spat_ext,\n",
    "                                        bands=[\"MAP\"]\n",
    "                                        )\n",
    "        #cropland_mask._pg.arguments['featureflags'] = temporal_partition_options\n",
    "        cropland_mask = cropland_mask.band(\"MAP\") != 40\n",
    "\n",
    "        s2 = s2.mask(cropland_mask.resample_cube_spatial(s2).max_time())\n",
    "        s1 = s1.mask(cropland_mask.resample_cube_spatial(s1).max_time())\n",
    "\n",
    "    ### Base feature calculation\n",
    "    idx_list = [\"NDVI\",\"NDMI\",\"NDGI\",\"ANIR\",\"NDRE1\",\"NDRE2\",\"NDRE5\"]\n",
    "    s2_list = [\"B06\",\"B12\"]\n",
    "\n",
    "    s1_dekad = s1.aggregate_temporal_period(period=\"dekad\", reducer=\"mean\")\n",
    "    s1_dekad = s1_dekad.apply_dimension(dimension=\"t\", process=\"array_interpolate_linear\")\n",
    "    s1_dekad = s1_dekad.resample_cube_spatial(s2)\n",
    "\n",
    "    indices = compute_indices(s2, idx_list, 250).filter_bands(s2_list+idx_list)\n",
    "    idx_dekad = indices.aggregate_temporal_period(period=\"dekad\", reducer=\"mean\")\n",
    "    idx_dekad = idx_dekad.apply_dimension(dimension=\"t\", process=\"array_interpolate_linear\").filter_temporal([str(year)+\"-01-01\", str(year)+\"-12-31\"])\n",
    "\n",
    "    base_features = idx_dekad.merge_cubes(s1_dekad)\n",
    "    base_features = base_features.rename_labels(\"bands\",s2_list+idx_list+[\"ratio\",\"VV\",\"VH\"])\n",
    "\n",
    "    ### Advanced feature calculation\n",
    "    features = base_features.apply_dimension(dimension='t',target_dimension='bands', process=computeStats)\n",
    "\n",
    "    tstep_labels = [ \"t\"+ str(6*index) for index in range(0,6) ]\n",
    "    features = features.rename_labels('bands',[band + \"_\" + stat for band in base_features.metadata.band_names for stat in [\"p10\",\"p50\",\"p90\",\"sd\"] + tstep_labels ])\n",
    "\n",
    "    clf_results = features.apply_dimension(code=udf_rf, runtime=\"Python\", dimension=\"bands\").rename_labels(\"bands\",[\"pixel\"]).apply(lambda x: x.linear_scale_range(0,250,0,250))\n",
    "    return clf_results\n",
    "\n",
    "\n",
    "job = rf_classification(bbox, udf_rf).execute_batch(\n",
    "        title=\"RF model inference on small user-selected area, GTiff\",\n",
    "        out_format=\"GTiff\",\n",
    "        job_options=job_options)\n",
    "results = job.get_results()\n",
    "results.download_files(\"./data/test_klein_gebied\")"
   ]
  },
  {
   "cell_type": "markdown",
   "id": "d0b70181",
   "metadata": {},
   "source": [
    "Finally, we can have a look at the result"
   ]
  },
  {
   "cell_type": "code",
   "execution_count": 26,
   "id": "25ddacbf",
   "metadata": {
    "scrolled": true
   },
   "outputs": [
    {
     "data": {
      "image/png": "[encoded data removed]",
      "text/plain": [
       "<Figure size 640x480 with 1 Axes>"
      ]
     },
     "metadata": {},
     "output_type": "display_data"
    }
   ],
   "source": [
    "ds_xr = rasterio.open(\"./data/test_klein_gebied/openEO.tif\").read(1)\n",
    "plt.imshow(ds_xr)\n",
    "plt.show()"
   ]
  }
 ],
 "metadata": {
  "kernelspec": {
   "display_name": "Python 3 (ipykernel)",
   "language": "python",
   "name": "python3"
  },
  "language_info": {
   "codemirror_mode": {
    "name": "ipython",
    "version": 3
   },
   "file_extension": ".py",
   "mimetype": "text/x-python",
   "name": "python",
   "nbconvert_exporter": "python",
   "pygments_lexer": "ipython3",
   "version": "3.11.4"
  }
 },
 "nbformat": 4,
 "nbformat_minor": 5
}
