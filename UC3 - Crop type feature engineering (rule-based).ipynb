Sentinel-2 crop classification
